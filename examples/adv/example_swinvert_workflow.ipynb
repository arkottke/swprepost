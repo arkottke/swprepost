{
 "cells": [
  {
   "cell_type": "markdown",
   "metadata": {},
   "source": [
    "\n",
    "\n",
    "## License Information\n",
    "\n",
    "---\n",
    "\n",
    "This file is distributed as part of _swprepost_, a Python package for surface wave inversion pre- and post-processing.\n",
    "\n",
    "    Copyright (C) 2019-2021 Joseph P. Vantassel (jvantassel@utexas.edu)\n",
    "\n",
    "    This program is free software: you can redistribute it and/or modify\n",
    "    it under the terms of the GNU General Public License as published by\n",
    "    the Free Software Foundation, either version 3 of the License, or\n",
    "    (at your option) any later version.\n",
    "\n",
    "    This program is distributed in the hope that it will be useful,\n",
    "    but WITHOUT ANY WARRANTY; without even the implied warranty of\n",
    "    MERCHANTABILITY or FITNESS FOR A PARTICULAR PURPOSE.  See the\n",
    "    GNU General Public License for more details.\n",
    "\n",
    "    You should have received a copy of the GNU General Public License\n",
    "    along with this program.  If not, see <https: //www.gnu.org/licenses/>.\n",
    "\n",
    "## About SWinvert, _swprepost_, _swbatch_, and this notebook\n",
    "\n",
    "---\n",
    "\n",
    "[SWinvert](https://doi.org/10.1093/gji/ggaa426) is a workflow for performing\n",
    "rigorous 1-D surface wave inversion (Vantassel and Cox, 2021).\n",
    "[_swprepost_](https://github.com/jpvantassel/swprepost/) is a Python package for\n",
    "performing surface wave inversion pre- and post-processing (Vantassel, 2020).\n",
    "[_swbatch_](https://github.com/jpvantassel/swbatch) is an application on the\n",
    "[DesignSafe-CI](https://www.designsafe-ci.org/) (Vantassel et al., 2020) which\n",
    "allows users to perform batch-style surface wave inversions on the high\n",
    "performance cluster Stampede2 directly from Jupyter (recommended, instructions\n",
    "and code provided below) or through the web interface (not recommended,\n",
    "instructions provided below).\n",
    "\n",
    "This notebook is __an__ example of a workflow that can be built using the\n",
    "concepts from SWinvert and the tools _swprepost_ and _swbatch_.\n",
    "The SWinvert workflow, _swprepost_, _swbatch_, and this notebook were developed\n",
    "by Joseph P. Vantassel, under the supervision of Brady R. Cox at The University\n",
    "of Texas at Austin. If you use this notebook in your research or consulting we\n",
    "ask that you please cite the following:\n",
    "\n",
    "> Vantassel, J.P. and Cox, B.R. (2021). SWinvert: a workflow for performing\n",
    "> rigorous 1-D surface wave inversions. Geophysical Journal International\n",
    "> 224, 1141-1156. https://doi.org/10.1093/gji/ggaa426\n",
    "\n",
    "> Vantassel, J., (2020). jpvantassel/swprepost: latest (Concept). Zenodo. https://doi.org/10.5281/zenodo.3839998\n",
    "\n",
    "> Vantassel, J., Gurram, H., and Cox, B., (2020). jpvantassel/swbatch: latest (Concept). Zenodo. https://doi.org/10.5281/zenodo.3840546\n",
    "\n",
    "_Note: For software, version specific citations should be preferred to\n",
    "general concept citations, such as that listed above. To generate a version\n",
    "specific citation for `swprepost` and `swbatch`, please use the citation tool\n",
    "on the `swprepost` [archive](https://doi.org/10.5281/zenodo.3839998) and the\n",
    "`swbatch` [archive](https://doi.org/10.5281/zenodo.3840545)._\n",
    "\n",
    "## Using this notebook\n",
    "\n",
    "This notebook has four main parts:\n",
    "\n",
    "1. [Defining the inversion target](#Defining-the-Inversion-Target)\n",
    "2. [Selecting the inversion parameterizations](#Selecting-the-Inversion-Parameterizations)\n",
    "3. [Running the inversion](#Running-the-Inversion)\n",
    "4. [Post-processing the inversion results](#Post-processing-the-Inversion-Results)\n",
    "\n",
    "While the below workflow proposes a relatively straightforward and\n",
    "production-tested approach to surface wave inversion, please feel free to modify\n",
    "and expand upon what is provided. Importantly, please note that this notebook\n",
    "utilizes only a fraction of the functionality available fromm the _swprepost_\n",
    "package and so be sure to first check if the additional functionality already\n",
    "exists within _swprepost_. If you have implemented something that you believe\n",
    "would be of interest to other users please feel free to open an issue on GitHub\n",
    "detailing the problem you are proposing to solve with your new feature and then\n",
    "providing the solution. If you are unfamiliar with GitHub issues, please send\n",
    "me (Joseph Vantasel) an email.\n",
    "\n",
    "## An important final note\n",
    "\n",
    "This notebook is intended as a tool to expedite surface wave inversion, however\n",
    "it is of paramount importance that the user have some working knowledge of\n",
    "surface wave inversion to understand what they are doing. We strongly recommend\n",
    "that this notebook not be used as \"black-box\" for surface wave inversion. At a\n",
    "minimum we recommend the user to read Vantassel and Cox (2021), citation above,\n",
    "to familiarize themselves with the basics of surface wave inversion and the\n",
    "specific recommendations presented therein.\n"
   ]
  },
  {
   "cell_type": "markdown",
   "metadata": {},
   "source": [
    "## Install _swprepost_ and Dependencies\n",
    "\n",
    "This will install _swprepost_ if you have not done so already.\n"
   ]
  },
  {
   "cell_type": "code",
   "execution_count": null,
   "metadata": {},
   "outputs": [],
   "source": [
    "!pip install --user swprepost"
   ]
  },
  {
   "cell_type": "markdown",
   "metadata": {},
   "source": [
    "## Imports and Function Definitions"
   ]
  },
  {
   "cell_type": "code",
   "execution_count": 1,
   "metadata": {},
   "outputs": [
    {
     "name": "stdout",
     "output_type": "stream",
     "text": [
      "Imports successful\n"
     ]
    }
   ],
   "source": [
    "import glob, re, os\n",
    "\n",
    "import numpy as np\n",
    "import matplotlib.pyplot as plt\n",
    "\n",
    "import swprepost\n",
    "\n",
    "def plot_target(target):\n",
    "    fig, axs = plt.subplots(nrows=1, ncols=2, sharey=True, figsize=(6, 3), dpi=150)\n",
    "    target.plot(x=\"frequency\", y=\"velocity\", ax=axs[0])\n",
    "    target.plot(x=\"wavelength\", y=\"velocity\", ax=axs[1])\n",
    "    axs[1].set_ylabel(\"\")\n",
    "    axs[1].legend()\n",
    "    return (fig, axs)\n",
    "\n",
    "print(\"Imports successful, you may proceed.\")"
   ]
  },
  {
   "cell_type": "markdown",
   "metadata": {},
   "source": [
    "# Defining the Inversion Target\n",
    "\n",
    "## Importing the Experimental Dispersion Data\n",
    "\n",
    "1. Select the desired approach by commenting/uncommenting the appropriate line in the cell below.\n",
    "2. Review the figure to ensure your data has loaded correctly, then proceed to the next cell.\n",
    "\n",
    "[Back to top](#License-Information)"
   ]
  },
  {
   "cell_type": "code",
   "execution_count": 6,
   "metadata": {},
   "outputs": [
    {
     "name": "stdout",
     "output_type": "stream",
     "text": [
      "Import successful, you may proceed.\n"
     ]
    },
    {
     "data": {
      "image/png": "[encoded data removed]",
      "text/plain": [
       "<Figure size 900x450 with 2 Axes>"
      ]
     },
     "metadata": {
      "needs_background": "light"
     },
     "output_type": "display_data"
    }
   ],
   "source": [
    "# Approach 1: Import from comma seperated text file (see documentation for details).\n",
    "target = swprepost.Target.from_csv(\"example.csv\")\n",
    "\n",
    "# Approach 2: Import from v2 dinver-style text file (see documentation for details).\n",
    "# target = swprepost.Target.from_txt_dinver(\"example_dv2.txt\", version=\"2\")\n",
    "\n",
    "# Approach 3: Import from v3 dinver-style text file (see documentation for details).\n",
    "# target = swprepost.Target.from_txt_dinver(\"example_dv3.txt\", version=\"3\")\n",
    "\n",
    "\n",
    "fig, axs = plot_target(target)\n",
    "print(\"Import successful, you may proceed.\")"
   ]
  },
  {
   "cell_type": "markdown",
   "metadata": {},
   "source": [
    "## Resampling the Experimental Dispersion Data\n",
    "\n",
    "If you have not yet resample your experimental dispersion data, follow the\n",
    "instructions below. If you have already resampled your experimental data, you\n",
    "may skip this cell.\n",
    "\n",
    "1. Select the `domain` in which you wish to resample. _wavelength is recommended._\n",
    "2. Select the `resample_type` either log or linear. _log is recommended._\n",
    "3. Select the minimum (`pmin`), maximum (`pmax`), and number of points (`pn`) after resampling. Note that `pmin` and `pmax` are in terms of the selected `domain` (i.e., either frequency or wavelength). _20-30 points are recommended._\n",
    "4. Select the `target_name` and `version` of Geopsy used to define the output `.target` file.\n",
    "5. Review the figure to ensure your data has been resampled correctly, then proceed to the next cell.\n",
    "\n",
    "[Back to top](#License-Information)"
   ]
  },
  {
   "cell_type": "code",
   "execution_count": 7,
   "metadata": {},
   "outputs": [
    {
     "name": "stdout",
     "output_type": "stream",
     "text": [
      "Resample successful, you may proceed.\n"
     ]
    },
    {
     "data": {
      "image/png": "[encoded data removed]",
      "text/plain": [
       "<Figure size 900x450 with 2 Axes>"
      ]
     },
     "metadata": {
      "needs_background": "light"
     },
     "output_type": "display_data"
    }
   ],
   "source": [
    "domain = \"wavelength\"       # \"frequency\" or \"wavelength\", \"wavelength\" is recommended\n",
    "res_type = \"log\"            # \"log\" or 'linear', \"log\" is recommended.\n",
    "pmin = 2                    # Minimum value after resampling in units of domain\n",
    "pmax = 150                  # Maximum value after resampling in units of domain\n",
    "pn = 20                     # Number of samples, 20-30 points are recommended.\n",
    "\n",
    "target.easy_resample(pmin=pmin, pmax=pmax, pn=pn, res_type=res_type, domain=domain, inplace=True)\n",
    "fig, axs = plot_target(target)\n",
    "print(\"Resample successful, you may proceed.\")"
   ]
  },
  {
   "cell_type": "markdown",
   "metadata": {},
   "source": [
    "## Save Target to Disk\n",
    "\n",
    "After importing your experimental dispersion data and completing any desired\n",
    "resampling, use the cell below to create the `0_targets` directory if\n",
    "it does not exist and writing your newly created `.target` file. You\n",
    "may confirm that the write was sucessful by examining the created `.target`\n",
    "file in the Dinver graphical user interface.\n"
   ]
  },
  {
   "cell_type": "code",
   "execution_count": 4,
   "metadata": {},
   "outputs": [
    {
     "name": "stdout",
     "output_type": "stream",
     "text": [
      "Tar5.target exists, you may proceed.\n"
     ]
    }
   ],
   "source": [
    "target_name = \"Tar5\"        # Name of target file (no .target suffix)\n",
    "version = \"2\"               # Major version of Geopsy \"2\" or \"3\"\n",
    "\n",
    "# Save to Disk\n",
    "if os.path.isdir(\"0_targets/\")==False:\n",
    "    os.mkdir(\"0_targets/\")\n",
    "target.to_target(f\"0_targets/{target_name}\", version=version)\n",
    "\n",
    "if os.path.exists(f\"0_targets/{target_name}.target\"):\n",
    "    print(f\"{target_name}.target exists, you may proceed.\")"
   ]
  },
  {
   "cell_type": "markdown",
   "metadata": {},
   "source": [
    "## Selecting the Inversion Parameterizations\n",
    "\n",
    "1. Enter upper and lower limits for all layers: compression wave velocity `vp`,\n",
    "shear wave velocity `vs`, Poisson's ratio `pr`, and mass density `rh`. `vp` and\n",
    "`vs` are in units of `m/s` and `rh` in units of `kg/m**3`.\n",
    "2. Select whether you will allow `vp` and `vs` to decrease with depth\n",
    "(inverely-dispersive) or to be strictly increasing (normally dispersive). In\n",
    "general unless there is clear evidence in the experimental dispersion data or\n",
    "geologic setting that a velocity reversal exists, the normally dispersive\n",
    "assumption is recommended.\n",
    "3. Select the Layering by Number `LN` and/or Layering Ratio `LR`\n",
    "parameterizations you would like to consider in your inversion. Note that this\n",
    "notebook assumes `vp` and `vs` follow the same underlying layering scheme. This\n",
    "may or may not be ideal depending on your dataset, however we have found this\n",
    "type of parameterization to work well in many situations. Only a\n",
    "single layer is assumed for `pr` and `rh`.\n",
    "4. After making your selections, run the cell to write the parameterizations\n",
    "to disk. A `1_parameters` directory will be created if one does not exist. If\n",
    "you would like to create more complex parameterizations you may either use\n",
    "other existing functionality in _swprepost_ (see documentation for details) or\n",
    "use the Dinver graphical user interface to modify the base parameterizations\n",
    "created using the cell below.\n",
    "\n",
    "__Be cautious when making your selections as they can strongly bias your inversion results.__\n",
    "\n",
    "[Back to top](#License-Information)"
   ]
  },
  {
   "cell_type": "code",
   "execution_count": 5,
   "metadata": {},
   "outputs": [
    {
     "name": "stdout",
     "output_type": "stream",
     "text": [
      "All 8 .param files exists, you may proceed.\n"
     ]
    }
   ],
   "source": [
    "# Minimum and maximum for all layers. See above instructions for details.\n",
    "vp_min, vp_max, vp_dec = 100., 5000., False\n",
    "vs_min, vs_max, vs_dec = 80., 3500., False\n",
    "pr_min, pr_max = 0.2, 0.5\n",
    "rh_min, rh_max = 2000., 2000.\n",
    "\n",
    "# Layering by Number (LN) parameterizations to consider. Add or remove as desired.\n",
    "lns = [4, 5, 7, 9]\n",
    "\n",
    "# Layering Ratios (LRs) parameterizations to consider. Add or remove as desired.\n",
    "lrs = [1.2, 1.5, 2.0, 3.0]\n",
    "\n",
    "# Depth factor, typically 2 or 3.\n",
    "depth_factor = 2\n",
    "\n",
    "# Minimum and maximum wavelength, selected from experimental disperison data by default.\n",
    "wmin, wmax = min(target.wavelength), max(target.wavelength)\n",
    "\n",
    "# Mass density.\n",
    "if (rh_min - rh_max) < 1:\n",
    "    rh = swprepost.Parameter.from_fx(rh_min)\n",
    "else:\n",
    "    rh = swprepost.Parameter.from_ln(wmin=wmin, wmax=wmax, nlayers=1, par_min=rh_min, par_max=rh_max, par_rev=False)\n",
    "    \n",
    "# Poisson's ratio\n",
    "if (pr_max - pr_min) < 0.05:\n",
    "    raise ValueError(f\"Difference between pr_min and pr_max is too small ({pr_max-pr_min:2f}<0.05), use larger range.\")\n",
    "else:\n",
    "    pr = swprepost.Parameter.from_ln(wmin=wmin, wmax=wmax, nlayers=1, par_min=pr_min, par_max=pr_max, par_rev=False)\n",
    "\n",
    "# Make 1_parameters directory.\n",
    "if not os.path.isdir(\"1_parameters/\"):\n",
    "    os.mkdir(\"1_parameters/\")\n",
    "\n",
    "# Parameterize Vs using Layering by Number (LN)\n",
    "for ln in lns:\n",
    "    vs = swprepost.Parameter.from_ln(wmin=wmin, wmax=wmax, nlayers=ln, par_min=vs_min, par_max=vs_max, par_rev=vs_dec, depth_factor=depth_factor)\n",
    "    vp = swprepost.Parameter.from_parameter_and_link(par_min=vp_min, par_max=vp_max, par_rev=vp_dec, existing_parameter=vs, ptype=\"vs\")\n",
    "    par = swprepost.Parameterization(vp=vp, pr=pr, vs=vs, rh=rh)\n",
    "    par.to_param(f\"1_parameters/LN{ln}\", version=version)\n",
    "\n",
    "# Parameterize Vs using Layering Ratio (LR)\n",
    "for lr in lrs:\n",
    "    vs = swprepost.Parameter.from_lr(wmin=wmin, wmax=wmax, lr=lr, par_min=vs_min, par_max=vs_max, par_rev=vs_dec, depth_factor=depth_factor)\n",
    "    vp = swprepost.Parameter.from_parameter_and_link(par_min=vp_min, par_max=vp_max, par_rev=vp_dec, existing_parameter=vs, ptype=\"vs\")\n",
    "    par = swprepost.Parameterization(vp=vp, pr=pr, vs=vs, rh=rh)\n",
    "    par.to_param(f\"1_parameters/LR{int(lr*10)}\", version=version)\n",
    "\n",
    "nparam = len(lns) + len(lrs)\n",
    "if len(glob.glob(\"1_parameters/*.param\")) == nparam:\n",
    "    print(f\"All {nparam} .param files exist, you may proceed.\")"
   ]
  },
  {
   "cell_type": "markdown",
   "metadata": {},
   "source": [
    "## Running the Inversion\n",
    "\n",
    "There are two ways to run your inversion(s):\n",
    "\n",
    "1. Locally using the `.target` and `.param` files from above. (Not Recommended, for reasons provided below)\n",
    "2. Remotely using the DesignSafe-CI application _swbatch_. (Recommended)\n",
    "\n",
    "See the appropriate section below for instructions.\n",
    "\n",
    "### If running locally\n",
    "\n",
    "Running locally is generally not recommended as the DesignSafe-CI\n",
    "application _swbatch_ has been specifically designed to integrate with the\n",
    "inputs generated by this notebook. However, as some will undoubtedly still want\n",
    "to run their inversion's locally instructions are provided below.\n",
    "\n",
    "1. Load the `.target` and `.param` files into Dinver. The `.target` and `.param`\n",
    "files are located in the `0_targets` and `1_parameters` directories,\n",
    "respectively.\n",
    "2. Setup the inversion's tuning parameters. Full details are provided in\n",
    "Vantassel and Cox (2021), however for completeness a brief summary is provided\n",
    "here. Number of independent runs (i.e., Ntrial) should be greater than 3,\n",
    "It*Ns > 50,000 (e.g., It=200, Ns=250), Nr ~= 100, Ns0>Nr (e.g., Ns0=10000).\n",
    "3. After completing your inversions export the desired number of ground models\n",
    "and dispersion curves to text format, using the Geopsy command line interface.\n",
    "Refer to the provided sample outputs in the `3_text` directory for the naming\n",
    "conventions assumed by this notebook in order to be able to use the\n",
    "post-processing provided below.\n",
    "\n",
    "### If running remotely on DesignSafe-CI\n",
    "\n",
    "This functionality is only available to those running this notebook through the DesignSafe-CI.\n",
    "\n",
    "1. Read through the cell below and select your inversion tuning parameters.\n",
    "2. When done, run the cell and inspect the output.\n",
    "3. If there is an issue edit the cell and run it again.\n",
    "4. Finally, run the following cell to launch your inversion on Stampede2.\n",
    "5. Monitor the progress of your inversion by navigating to `Workspace > Tools & Application > Job Status`.\n",
    "\n",
    "[Back to top](#License-Information)"
   ]
  },
  {
   "cell_type": "code",
   "execution_count": null,
   "metadata": {},
   "outputs": [],
   "source": [
    "# from agavepy.agave import Agave\n",
    "# from agavepy.async import AgaveAsyncResponse\n",
    "# ag=Agave.restore()\n",
    "\n",
    "# # Inputs\n",
    "# job_name = \"EX0\"      # Name of job (will appear in workspace)\n",
    "# run_time = \"00:05:00\" # Runtime for simulation in (HH:MM:SS) format\n",
    "# run_name = \"EX\"       # Run name (will appear as prefix to groundmodel and dispersioncurve files)\n",
    "# n_trials = \"2\"        # Number of trials to perform, a minimum of 3 is recommended.\n",
    "# It = \"20\"             # Number of iterations, a minimum of 200 is recommended.\n",
    "# Ns = \"25\"             # Number of samples per iteration, a minimum of 250 is recommended.\n",
    "# Nr = \"100\"            # Number of models to consider when resampling, 100 is recommended.\n",
    "# Ns0 = \"100\"           # Number of initial samples, any value greater than Nr is recommended.\n",
    "\n",
    "# # Outputs\n",
    "# nprofile = \"3\"        # Number of ground models and dispersion curves to export\n",
    "# # Frequency sampling of theoretical dispersion curves\n",
    "# fmin = \"1\"            # Minimum frequency in Hz\n",
    "# fmax = \"50\"           # Maximum frequency in Hz\n",
    "# fnum = \"25\"           # Number of frequency samples\n",
    "\n",
    "# full=%pwd\n",
    "# usr=ag.profiles.get()[\"username\"]\n",
    "# shrt=full[20::]\n",
    "# job_description = {\n",
    "#     \"name\":job_name,\n",
    "#     \"appId\":\"swbatch-0.2.1\",\n",
    "#     \"batchQueue\":\"development\",\n",
    "#     \"nodeCount\":1,\n",
    "#     \"maxRunTime\":run_time,\n",
    "#     \"archive\":True,\n",
    "#     \"inputs\":{\n",
    "#         \"workingDirectory\":\"agave://designsafe.storage.default/\"+usr+shrt\n",
    "#     },\n",
    "#     \"parameters\":{\n",
    "#       \"name\":run_name,\n",
    "#       \"ntrial\":n_trials,\n",
    "#       \"Ns0\":Ns0,\n",
    "#       \"It\":It,\n",
    "#       \"Ns\":Ns,\n",
    "#       \"Nr\":Nr,\n",
    "#       \"nprofile\":nprofile,\n",
    "#       \"fnum\":fnum,\n",
    "#       \"fmin\":fmin,\n",
    "#       \"fmax\":fmax,\n",
    "#     }\n",
    "# }\n",
    "# print(\"Confirm job information before continuing: \")\n",
    "# display(job_description)"
   ]
  },
  {
   "cell_type": "code",
   "execution_count": null,
   "metadata": {},
   "outputs": [],
   "source": [
    "# # Run cell to launch simulation\n",
    "# job = ag.jobs.submit(body=job_description)\n",
    "# asrp = AgaveAsyncResponse(ag, job)"
   ]
  },
  {
   "cell_type": "markdown",
   "metadata": {},
   "source": [
    "## Post-processing the Inversion Results"
   ]
  },
  {
   "cell_type": "markdown",
   "metadata": {},
   "source": [
    "### Importing the Data\n",
    "\n",
    "In order for the data to import correctly you must provide a relative or full path to the `3_text` directory.\n",
    "\n",
    "1. For those running this as a tutorial, no changes are necessary here.\n",
    "2. For those running this locally, it is recommended you follow the same directory structure provided in the example, and therefore no changes are necessary.\n",
    "3. For those running this remotely on DesignSafe-CI, you will need to replace the `full_path` variable in the cell below with the full path to the `3_text` directory containing your results. For your convenience, an incomplete `full_path` variable is provided below and commented out. To complete the path you will need to replace `<path_here>` with the actual path. The easiest way to find the full path to your data is by using the Job Status viewer by selecting `Research Workbench>Job Status>Your Desired Job>View` which will bring you to your job results. Alternatively, you can move the `3_text` directory form the job archive into the current directory, in which no changes to `full_path` are necessary.\n",
    "\n",
    "[Back to top](#License-Information)"
   ]
  },
  {
   "cell_type": "code",
   "execution_count": null,
   "metadata": {},
   "outputs": [],
   "source": [
    "ndc = 1             # Number of dispersion curves, may use \"all\"\n",
    "nrayleigh = 1       # Number of rayleigh modes, may use \"all\"\n",
    "nlove = 0           # Number of love modes, may use \"all\"\n",
    "ngm = 1             # Number of ground models, may use \"all\"\n",
    "\n",
    "full_path = \"./3_text/\"\n",
    "# full_path = \"/home/jupyter/MyData/archive/<path_here>/3_text/\"\n",
    "fnames = glob.glob(full_path + \"*_DC.txt\")\n",
    "fnames.sort(key=lambda x: int(re.findall(r\".*[\\\\/].*_.*[LF][TRN][IL]?(\\d+)_Tr\\d+_DC.txt$\",x)[0]))\n",
    "\n",
    "dcs, gms = {}, {}\n",
    "for fname in fnames:\n",
    "    filename, partype, parnumber, seed = re.findall(r\".*[\\\\/](.*_.*([LF][TRN][IL]?)(\\d+)_Tr(\\d+)_DC.txt)$\", fname)[0]\n",
    "    \n",
    "    # Divide LR by 10\n",
    "    if partype in ['LR']:\n",
    "        parnumber = str(int(parnumber)/10)\n",
    "    \n",
    "    # Save by parameterization\n",
    "    if partype not in dcs.keys():\n",
    "        dcs.update({partype:{}})\n",
    "        gms.update({partype:{}})\n",
    "        firstpass = True\n",
    "        \n",
    "    # Save by parameterization number        \n",
    "    if parnumber not in dcs[partype].keys():\n",
    "        dcs[partype].update({parnumber:{}})\n",
    "        gms[partype].update({parnumber:{}})\n",
    "        \n",
    "    # Save by trial\n",
    "    if os.path.getsize(fname) == 0:\n",
    "        print(f\"fname = {fname}, is empty skipping!\")\n",
    "    else:\n",
    "        dcs[partype][parnumber].update({seed:swprepost.DispersionSuite.from_geopsy(fname=fname, nsets=ndc, \n",
    "                                                                                   nrayleigh=nrayleigh, nlove=nlove)})\n",
    "        gms[partype][parnumber].update({seed:swprepost.GroundModelSuite.from_geopsy(fname=fname[:-6]+\"GM.txt\", nmodels=ngm)})\n",
    "    \n",
    "ncols = len(list(dcs.keys()))\n",
    "fig, axs = plt.subplots(nrows=1, ncols=ncols, sharey=True, figsize=(3*ncols,3), dpi=150)\n",
    "axs = [axs] if type(axs) != np.ndarray else axs\n",
    "bestseed = {}\n",
    "blabel = \"Each Trial\"\n",
    "fiter = True\n",
    "for ax, partype in zip(axs, dcs):\n",
    "    bestseed.update({partype:{}})\n",
    "    for parnumber in dcs[partype]:\n",
    "        seeds, misfits = [], []\n",
    "        for seed in dcs[partype][parnumber].keys():\n",
    "            seeds.append(seed)\n",
    "            misfits.append(dcs[partype][parnumber][seed].misfits[0])\n",
    "            ax.plot(parnumber, misfits[-1], 'bo', label=blabel, alpha=0.2)\n",
    "            blabel = None\n",
    "        bestseed[partype].update({parnumber:seeds[misfits.index(min(misfits))]})\n",
    "    if fiter:\n",
    "        fiter = False\n",
    "        ax.legend()\n",
    "    ax.set_title(\"Parameterization Type: \"+partype)\n",
    "axs[0].set_ylabel(\"Dispersion Misfit, \"+\"$m_{dc}$\")\n",
    "plt.show()"
   ]
  },
  {
   "cell_type": "markdown",
   "metadata": {},
   "source": [
    "### General Settings\n",
    "\n",
    "_Note: If you are considering more than six parameterizations, you must provide additional colors in the list below._\n",
    "\n",
    "[Back to top](#License-Information)"
   ]
  },
  {
   "cell_type": "code",
   "execution_count": null,
   "metadata": {},
   "outputs": [],
   "source": [
    "colors = [\"#adefbb\", \"#588c7e\",\"#e6c833\",\"#f2ae72\",\"#e97816\",\"#a366ff\"]"
   ]
  },
  {
   "cell_type": "markdown",
   "metadata": {},
   "source": [
    "### Plotting Dispersion\n",
    "\n",
    "[Back to top](#License-Information)"
   ]
  },
  {
   "cell_type": "code",
   "execution_count": null,
   "metadata": {},
   "outputs": [],
   "source": [
    "ndc = 1       # Number of \"best\" dispersion curves to plot, may use \"all\".\n",
    "nray = 1      # Number of Rayleigh-wave modes to plot, may use \"all\".\n",
    "nlov = 0      # Number of Love-wave modes to plot, may use \"all\".\n",
    "\n",
    "fig, axs = plt.subplots(nrows=1, ncols=2, sharey=True, figsize=(6,3), dpi=150)\n",
    "\n",
    "# Plot the Theoretical Modes of Inversion Ground Models.\n",
    "color_id = 0\n",
    "for partype in dcs:\n",
    "    for parnumber in dcs[partype]:\n",
    "        best = bestseed[partype][parnumber]\n",
    "        suite = dcs[partype][parnumber][best]\n",
    "        label = f\"{partype}={parnumber} {suite.misfit_repr(nmodels=ndc)}\"\n",
    "        \n",
    "        color = colors[color_id]\n",
    "        for dc_count, dcset in enumerate(suite):\n",
    "            for mode in range(nray):\n",
    "                try:\n",
    "                    dc = dcset.rayleigh[mode]\n",
    "                    axs[1].plot(dc.wavelength, dc.velocity, color=color, label=label)\n",
    "                    label=None\n",
    "                    axs[0].plot(dc.frequency, dc.velocity, color=color, label=label)\n",
    "                except KeyError:\n",
    "                    print(f\"Could not find mode {mode}.\")                    \n",
    "            if dc_count+1 == ndc:\n",
    "                break\n",
    "        color_id += 1\n",
    "    \n",
    "# Plot the Experimental Dispersion Curve\n",
    "ax = axs[0]\n",
    "tar.plot(ax=ax)\n",
    "\n",
    "ax = axs[1]\n",
    "tar.plot(ax=ax, x=\"wavelength\")\n",
    "ax.legend(loc=\"center left\", bbox_to_anchor=(1,0.5))\n",
    "ax.set_ylabel(\"\")\n",
    "\n",
    "plt.show()"
   ]
  },
  {
   "cell_type": "markdown",
   "metadata": {},
   "source": [
    "### Plotting Vs\n",
    "\n",
    "[Back to top](#License-Information)"
   ]
  },
  {
   "cell_type": "code",
   "execution_count": null,
   "metadata": {},
   "outputs": [],
   "source": [
    "ngm = 1             # Number of GroundModels\n",
    "plot_depth = 50     # Maximum plot depth in meters\n",
    "\n",
    "fig, ax = plt.subplots(nrows=1, figsize=(2, 4), dpi=150)\n",
    "color_id = 0\n",
    "all_gm = []\n",
    "for partype in gms:\n",
    "    for parnumber in gms[partype]:\n",
    "        best = bestseed[partype][parnumber]\n",
    "        suite = gms[partype][parnumber][best]    \n",
    "        \n",
    "        label = f\"{partype}={parnumber} {suite.misfit_repr(nmodels=ngm)}\"\n",
    "        for gm in suite[:ngm]:\n",
    "            all_gm.append(gm)\n",
    "            ax.plot(gm.vs2, gm.depth, color=colors[color_id], linewidth=4, label=label)\n",
    "            label=None\n",
    "        color_id += 1\n",
    "    ax.set_ylim(plot_depth, 0)\n",
    "    ax.set_xlabel('Shear Wave Velocity, Vs (m/s)')\n",
    "    ax.set_ylabel('Depth (m)')\n",
    "    ax.legend(bbox_to_anchor=(1, 0.5), loc='center left')\n",
    "plt.show()"
   ]
  },
  {
   "cell_type": "markdown",
   "metadata": {},
   "source": [
    "### Plotting Uncertainty\n",
    "\n",
    "[Back to top](#License-Information)"
   ]
  },
  {
   "cell_type": "code",
   "execution_count": null,
   "metadata": {},
   "outputs": [],
   "source": [
    "fig, ax = plt.subplots(nrows=1, figsize=(2, 4), dpi=150)\n",
    "color_id = 0\n",
    "all_gm_suite = swprepost.GroundModelSuite.from_list(all_gm)\n",
    "ddepth, dsigmaln = all_gm_suite.sigma_ln()\n",
    "ax.plot(dsigmaln, ddepth, linewidth=4)\n",
    "ax.set_ylim(plot_depth, 0)\n",
    "ax.set_xlabel(r\"$\\sigma_{ln,Vs}$\")\n",
    "ax.set_ylabel(\"Depth (m)\")\n",
    "plt.show()"
   ]
  },
  {
   "cell_type": "code",
   "execution_count": null,
   "metadata": {},
   "outputs": [],
   "source": []
  }
 ],
 "metadata": {
  "kernelspec": {
   "display_name": "Python 3",
   "language": "python",
   "name": "python3"
  },
  "language_info": {
   "codemirror_mode": {
    "name": "ipython",
    "version": 3
   },
   "file_extension": ".py",
   "mimetype": "text/x-python",
   "name": "python",
   "nbconvert_exporter": "python",
   "pygments_lexer": "ipython3",
   "version": "3.7.5"
  }
 },
 "nbformat": 4,
 "nbformat_minor": 4
}
